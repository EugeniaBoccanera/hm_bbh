{
 "cells": [
  {
   "cell_type": "markdown",
   "metadata": {},
   "source": [
    "# LCPA 23-24 - \"Hierarchical mergers of binary black holes\""
   ]
  },
  {
   "cell_type": "markdown",
   "metadata": {},
   "source": [
    "<center><h1>Group 07</h1></center>\n",
    "\n",
    "\n",
    "<center><style>\n",
    "table {\n",
    "    font-size: 24px;\n",
    "}\n",
    "</style></center>\n",
    "\n",
    "| Last Name          | First Name            |Student Number|\n",
    "|--------------------|-----------------------|----------------|\n",
    "| Bertinelli         | Gabriele              |2103359         |\n",
    "| Boccanera          | Eugenia               |2109310         |\n",
    "| Cacciola           | Martina               |2097476         |\n",
    "| Lovato             | Matteo                |                |           "
   ]
  },
  {
   "cell_type": "markdown",
   "metadata": {},
   "source": [
    "## 1. Introduction\n",
    "\n",
    "A binary black hole (BBH) can form via close encounters of black holes (BHs) in a dense stellar environment, such as a nuclear star cluster (NSC), a globular cluster (GC) or a young star cluster (YSC). NSCs are very massive (~ $10^5 - 10^8 \\, M_\\odot$) star clusters lying at the center of some galaxies, including the Milky Way. GCs are old (~ 12 Gyr) massive (~ $10^4 - 10^6 M_\\odot$) stellar clusters lying in the halo of galaxies. YSC are young (< 100 Myr) stellar clusters forming mostly in the disk of a galaxy.  \n",
    "\n",
    "Several channels can lead to the formation of BBHs. But the distinctive signatures of the dynamical scenario is the formation of hierarchical mergers (IMs), i.e. repeated mergers of stellar-origin BHs that build up more massive one. This process is possible only in dense star clusters, where the merger remnant, which is initially a single BH, can pair up by dynamical exchanges or three-body encounter. The main obstacle to the formation of second-generation BHs via hierarchical mergers is the relativistic kick that the merger remnant receives at birth. This kick can be up to several thousand km/s. Hence, the interplay between the properties of the host star cluster (e.g., its escape velocity), those of the first-generation BBH population and the magnitude of the kick decides the maximum mass of a merger remnant in a given environment.  \n",
    "\n",
    "A property that is being studied is that IM can build up IMBHs and also partially fill the pair instability (PI) mass gap between ~60 and ~120 $M_\\odot$, explaining the formation of BBHs like GW190521.\n",
    "\n",
    "#### Hierarchical mergers\n",
    "When two stellar-born BHs merge via GW emission, their merger remnant is called second-generation (2g) BH. The 2g BH is a single object at birth. However, if it is retained inside its host star cluster, it may pair up dynamically with another BH. This gives birth to what we call a second-generation (2g) BBH, i.e. a binary black hole that hosts a 2g black hole . If a 2g binary black hole merges again, it gives birth to a third-generation (3g) BH, and so on. In this way, repeated black hole mergers in star clusters can give birth to hierarchical chains of mergers, leading to the formation of more and more massive black holes."
   ]
  },
  {
   "cell_type": "markdown",
   "metadata": {},
   "source": [
    "## 2. Goal of the project\n",
    "\n",
    "Understand the differences between hierarchical binary black hole mergers in NSCs, GCc and YSc, by looking at a set of simulated BBHs. \n",
    "Our analysis will be carried out with classification ML algorithms, such as Random Forest and XGBoost. We will then proceed to analyze the importance of features in order to understand the properties of systems of BBHs.   \n",
    "\n",
    "The idea is to split the analysis into two parts:\n",
    "\n",
    "- Based on the features of the BBHs systems, figure out to which host star cluster these systems belong. \n",
    "  It's a classification problem with label the `label` column of the dataset corresponding to `0 -> GC, 1 -> NSC, 2 -> YSC`. Feature importance analysis will tell us which features are most important to understand which system belongs to which host stellar cluster.\n",
    "\n",
    "- Analyze each stellar cluster independently. To do this we added a new label column `label_ngen`: `0` if the system has no other mergers beyond the 2nd generation; `1` if the system evolves beyond the 2nd generation.\n",
    "  This is still a classification problem, this time with respect to `label_ngen`. Analysis of features importance will tell us which features are most important that lead systems to evolve and which do not.\n",
    "\n",
    "To do this in a more detailed way, both globally (all labels together) and locally (single label), we will use `SHAP` values (Section ).\n",
    "\n",
    "In order to have a cleaner notebook we created a file (`hmbh.py`) containing the functions needed to create the dataset, to train the ML models and to plot the results."
   ]
  },
  {
   "cell_type": "markdown",
   "metadata": {},
   "source": [
    "# 3. Dataset\n",
    "\n",
    "The dynamical simulation were run for each host star cluster, with 12 different metallicities each. The files are found in the folders and subfolders: \n",
    "\n",
    "```python\n",
    "folder = ['GC_chi01_output_noclusterevolv', 'NSC_chi01_output_noclusterevolv',\n",
    "               'YSC_chi01_output_noclusterevolv']\n",
    "    \n",
    "metallicity = ['0.0002', '0.002', '0.02', '0.0004', '0.004', '0.006', '0.0008',\n",
    "                   '0.008', '0.0012', '0.012', '0.0016', '0.016']\n",
    "```\n",
    "\n",
    "Each `nth_generation.txt` dataset is composed of 28 columns. Among them we selected these: \n",
    "\n",
    "```python\n",
    "cols = ['c0', 'c1', 'c2', 'c3', 'c4', 'c7', 'c8', 'c9', 'c13', 'c15', 'c16', 'c17', 'c25', 'c27']\n",
    "```\n",
    "\n",
    "- c0: Identifier of the binary\n",
    "- c1: Mass of the primary black hole in solar masses\n",
    "- c2: Mass of the secondary black hole\n",
    "  \n",
    "- c3: Dimensionless spin magnitude of the primary black hole\n",
    "- c4: Dimensionless spin magnitude of the secondary black hole\n",
    "- c7: Initial semi-major axis of the binary black hole in solar radii\n",
    "- c8: Initial orbital eccentricity of the binary black hole\n",
    "\n",
    "- c9: Time requested for the dynamical pair up of the system in Myr\n",
    "- c13: Time elapsed since the first-gen formation until the merger of the nth-gen system\n",
    "\n",
    "- c15: Mass of the remnant\n",
    "- c16: Dimensionless spin magnitude of the remnant black hole\n",
    "- c17: Escape velocity from star cluster in km/s\n",
    "- c25: Total mass of the stellar cluster\n",
    "- c27: Number of generation of the system\n",
    "\n",
    "We added two new columns, in the creation of the dataset:\n",
    "- `label`: Identifies to which host star cluster a system belongs `0 -> GC, 1 -> NSC, 2 -> YSC`\n",
    "- `label_ngen`: `0` if the system has no other mergers beyond the 2nd generation; `1` if the system evolves beyond the 2nd generation"
   ]
  },
  {
   "cell_type": "markdown",
   "metadata": {},
   "source": [
    "### Import modules"
   ]
  },
  {
   "cell_type": "code",
   "execution_count": null,
   "metadata": {},
   "outputs": [],
   "source": [
    "import hmbh as h # custom module for data analysis\n",
    "\n",
    "import numpy as np\n",
    "import pandas as pd\n",
    "import polars as pl\n",
    "\n",
    "import matplotlib as plt\n",
    "import seaborn as sns"
   ]
  },
  {
   "cell_type": "markdown",
   "metadata": {},
   "source": [
    "## 3.1 Dataset creation\n",
    "\n",
    "In order to create the dataset we use the custom function `create_dataset`. It used the `polars.DataFrame` object. \n",
    "Polars is fast DataFrame library for manipulating structured data. In order to be fast it optimizes queries to reduce unneeded work/memory allocations and adheres to a strict schema (data-types should be known before running the query). \n",
    "Polars leverages the concept of `LazyFrame`, Polars doesn't run each query line-by-line but instead processes the full query end-to-end. This lazy evaluation strategy allows for better memory management, making it possible to work with datasets that are too large to fit into RAM (it inherits the concept of \"lazy\" from Dask).\n",
    "\n",
    "The speed-up is astonishing: an improvement of ~ 900% wrt using Pandas!\n",
    "\n",
    "In the creation of the dataset we filter out those systems that take longer than Hubble time (~ 13.6 Gyr) to merge.\n",
    "After creating the dataset, we rename the columns and we add the column `label_ngen`."
   ]
  },
  {
   "cell_type": "code",
   "execution_count": null,
   "metadata": {},
   "outputs": [],
   "source": [
    "path = '../data/'\n",
    "\n",
    "folder = ['GC_chi01_output_noclusterevolv', 'NSC_chi01_output_noclusterevolv',\n",
    "               'YSC_chi01_output_noclusterevolv']\n",
    "    \n",
    "metallicity = ['0.0002', '0.002', '0.02', '0.0004', '0.004', '0.006', '0.0008',\n",
    "                   '0.008', '0.0012', '0.012', '0.0016', '0.016']\n",
    "\n",
    "cols = ['c0', 'c1', 'c2', 'c3', 'c4', 'c7', 'c8', 'c9', 'c13', 'c15', 'c16', 'c17', 'c25', 'c27'] # select bold columns -> most important for this analysis\n",
    "\n",
    "new_cols = ['ID', 'bh_mass1', 'bh_mass2', 'spin1', 'spin2', 'semimajor', 'i_ecc', 'time_dyn', 'time_merge', \n",
    "'remnant_mass', 'remnant_spin', 'escape_vel', 'cluster_mass', 'n_gen']\n",
    "\n",
    "\n",
    "df = h.create_dataset(path, folder, metallicity, cols) # dataset creation\n",
    "\n",
    "df = h.rename_columns(df, new_cols) # rename columns\n",
    "\n",
    "df = h.get_label_ngen(df) # get label for n_gen"
   ]
  },
  {
   "cell_type": "code",
   "execution_count": null,
   "metadata": {},
   "outputs": [],
   "source": [
    "df.head(5)"
   ]
  },
  {
   "cell_type": "markdown",
   "metadata": {},
   "source": [
    "# 4. Visual description\n",
    "Below we plot some important features and we provide a description of their distribution and relation with the host star cluster and the number of generations."
   ]
  },
  {
   "cell_type": "markdown",
   "metadata": {},
   "source": [
    "### 4.1 Masses"
   ]
  },
  {
   "cell_type": "markdown",
   "metadata": {},
   "source": [
    "# 5. Classification analysis\n",
    "\n",
    "In this section we describe the machine learning tasks and their results."
   ]
  },
  {
   "cell_type": "markdown",
   "metadata": {},
   "source": [
    "### 5.1 Data preprocessing\n",
    "\n",
    "`h.data_preprocessing`\n",
    "\n",
    "'+' \n",
    "\n",
    "model_evaluation w/o bar_plot to show difference in label performance."
   ]
  },
  {
   "cell_type": "markdown",
   "metadata": {},
   "source": []
  }
 ],
 "metadata": {
  "language_info": {
   "name": "python"
  }
 },
 "nbformat": 4,
 "nbformat_minor": 2
}
